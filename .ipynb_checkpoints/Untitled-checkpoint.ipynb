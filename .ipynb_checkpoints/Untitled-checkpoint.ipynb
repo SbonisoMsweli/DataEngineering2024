{
 "cells": [
  {
   "cell_type": "code",
   "execution_count": 8,
   "id": "26f41fc4-210e-4dbb-9da2-60d02e390bc7",
   "metadata": {},
   "outputs": [
    {
     "name": "stdin",
     "output_type": "stream",
     "text": [
      "Enter temperature in Kelvin: 350\n"
     ]
    },
    {
     "name": "stdout",
     "output_type": "stream",
     "text": [
      "350.0 K is equivalent to 76.85 C\n"
     ]
    }
   ],
   "source": [
    "temp_in_kelvin = float(input(\"Enter temperature in Kelvin:\"))\n",
    "temp_in_celcius = temp_in_kelvin - 273.15  #Temperature conversion in Celcius is T(K) - 273.15\n",
    "print(f\"{temp_in_kelvin} K is equivalent to {round(temp_in_celcius,2)} C\")"
   ]
  },
  {
   "cell_type": "code",
   "execution_count": 18,
   "id": "721c3084-bccd-42cc-8f80-257b8ea38438",
   "metadata": {},
   "outputs": [],
   "source": [
    "def temp_kelvin_to_celcius():\n",
    "    temp_in_kelvin =float(input(\"Enter temperature in Kelvin: \"))\n",
    "    temp_in_celcius = (temp_in_kelvin - 273.15)\n",
    "    return temp_in_celcius"
   ]
  },
  {
   "cell_type": "code",
   "execution_count": 20,
   "id": "cabd6e1d-e682-4c0e-b613-d85028d8fd85",
   "metadata": {},
   "outputs": [
    {
     "name": "stdin",
     "output_type": "stream",
     "text": [
      "Enter temperature in Kelvin:  400\n"
     ]
    },
    {
     "name": "stdout",
     "output_type": "stream",
     "text": [
      "350.0 K is equivalent to 76.9 C\n"
     ]
    }
   ],
   "source": [
    "temp_kelvin_to_celcius()\n",
    "print(f\"{temp_in_kelvin} K is equivalent to {round(temp_in_celcius,1)} C\")"
   ]
  },
  {
   "cell_type": "code",
   "execution_count": null,
   "id": "b5b8e125-e9ce-4cf6-b084-cecd6815269e",
   "metadata": {},
   "outputs": [],
   "source": []
  }
 ],
 "metadata": {
  "kernelspec": {
   "display_name": "Python 3 (ipykernel)",
   "language": "python",
   "name": "python3"
  },
  "language_info": {
   "codemirror_mode": {
    "name": "ipython",
    "version": 3
   },
   "file_extension": ".py",
   "mimetype": "text/x-python",
   "name": "python",
   "nbconvert_exporter": "python",
   "pygments_lexer": "ipython3",
   "version": "3.10.13"
  }
 },
 "nbformat": 4,
 "nbformat_minor": 5
}
